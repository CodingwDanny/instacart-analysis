{
 "cells": [
  {
   "cell_type": "markdown",
   "id": "77aa0995",
   "metadata": {},
   "source": [
    "# Instacart Analysis\n",
    "## 0. Setup & Sanity Checks"
   ]
  },
  {
   "cell_type": "code",
   "execution_count": 6,
   "id": "f59e2715",
   "metadata": {},
   "outputs": [
    {
     "name": "stdout",
     "output_type": "stream",
     "text": [
      "Saving figures to: /Users/dannychacon/Documents/Proyectos/port-sql-project/reports/figures\n"
     ]
    }
   ],
   "source": [
    "# --- setup to save figures ---\n",
    "from pathlib import Path\n",
    "PROJECT_ROOT = Path.cwd().resolve().parent\n",
    "FIGS = PROJECT_ROOT / \"reports\" / \"figures\"\n",
    "FIGS.mkdir(parents=True, exist_ok=True)  # crea la carpeta si no existe\n",
    "print(\"Saving figures to:\", FIGS)"
   ]
  },
  {
   "cell_type": "code",
   "execution_count": 7,
   "id": "29940f5e",
   "metadata": {},
   "outputs": [],
   "source": [
    "# --- make project root importable from a notebook ---\n",
    "import sys\n",
    "from pathlib import Path\n",
    "PROJECT_ROOT = Path.cwd().resolve().parent\n",
    "sys.path.insert(0, str(PROJECT_ROOT))\n",
    "# ----------------------------------------------------\n",
    "\n",
    "import pandas as pd\n",
    "from src.db import sqlite_engine\n",
    "engine, _ = sqlite_engine(\"instacart.db\")"
   ]
  },
  {
   "cell_type": "code",
   "execution_count": 3,
   "id": "158d2ebc",
   "metadata": {},
   "outputs": [
    {
     "name": "stdout",
     "output_type": "stream",
     "text": [
      "orders\n"
     ]
    },
    {
     "data": {
      "text/html": [
       "<div>\n",
       "<style scoped>\n",
       "    .dataframe tbody tr th:only-of-type {\n",
       "        vertical-align: middle;\n",
       "    }\n",
       "\n",
       "    .dataframe tbody tr th {\n",
       "        vertical-align: top;\n",
       "    }\n",
       "\n",
       "    .dataframe thead th {\n",
       "        text-align: right;\n",
       "    }\n",
       "</style>\n",
       "<table border=\"1\" class=\"dataframe\">\n",
       "  <thead>\n",
       "    <tr style=\"text-align: right;\">\n",
       "      <th></th>\n",
       "      <th>n</th>\n",
       "    </tr>\n",
       "  </thead>\n",
       "  <tbody>\n",
       "    <tr>\n",
       "      <th>0</th>\n",
       "      <td>3421083</td>\n",
       "    </tr>\n",
       "  </tbody>\n",
       "</table>\n",
       "</div>"
      ],
      "text/plain": [
       "         n\n",
       "0  3421083"
      ]
     },
     "metadata": {},
     "output_type": "display_data"
    },
    {
     "name": "stdout",
     "output_type": "stream",
     "text": [
      "products\n"
     ]
    },
    {
     "data": {
      "text/html": [
       "<div>\n",
       "<style scoped>\n",
       "    .dataframe tbody tr th:only-of-type {\n",
       "        vertical-align: middle;\n",
       "    }\n",
       "\n",
       "    .dataframe tbody tr th {\n",
       "        vertical-align: top;\n",
       "    }\n",
       "\n",
       "    .dataframe thead th {\n",
       "        text-align: right;\n",
       "    }\n",
       "</style>\n",
       "<table border=\"1\" class=\"dataframe\">\n",
       "  <thead>\n",
       "    <tr style=\"text-align: right;\">\n",
       "      <th></th>\n",
       "      <th>n</th>\n",
       "    </tr>\n",
       "  </thead>\n",
       "  <tbody>\n",
       "    <tr>\n",
       "      <th>0</th>\n",
       "      <td>49688</td>\n",
       "    </tr>\n",
       "  </tbody>\n",
       "</table>\n",
       "</div>"
      ],
      "text/plain": [
       "       n\n",
       "0  49688"
      ]
     },
     "metadata": {},
     "output_type": "display_data"
    },
    {
     "name": "stdout",
     "output_type": "stream",
     "text": [
      "aisles\n"
     ]
    },
    {
     "data": {
      "text/html": [
       "<div>\n",
       "<style scoped>\n",
       "    .dataframe tbody tr th:only-of-type {\n",
       "        vertical-align: middle;\n",
       "    }\n",
       "\n",
       "    .dataframe tbody tr th {\n",
       "        vertical-align: top;\n",
       "    }\n",
       "\n",
       "    .dataframe thead th {\n",
       "        text-align: right;\n",
       "    }\n",
       "</style>\n",
       "<table border=\"1\" class=\"dataframe\">\n",
       "  <thead>\n",
       "    <tr style=\"text-align: right;\">\n",
       "      <th></th>\n",
       "      <th>n</th>\n",
       "    </tr>\n",
       "  </thead>\n",
       "  <tbody>\n",
       "    <tr>\n",
       "      <th>0</th>\n",
       "      <td>134</td>\n",
       "    </tr>\n",
       "  </tbody>\n",
       "</table>\n",
       "</div>"
      ],
      "text/plain": [
       "     n\n",
       "0  134"
      ]
     },
     "metadata": {},
     "output_type": "display_data"
    },
    {
     "name": "stdout",
     "output_type": "stream",
     "text": [
      "departments\n"
     ]
    },
    {
     "data": {
      "text/html": [
       "<div>\n",
       "<style scoped>\n",
       "    .dataframe tbody tr th:only-of-type {\n",
       "        vertical-align: middle;\n",
       "    }\n",
       "\n",
       "    .dataframe tbody tr th {\n",
       "        vertical-align: top;\n",
       "    }\n",
       "\n",
       "    .dataframe thead th {\n",
       "        text-align: right;\n",
       "    }\n",
       "</style>\n",
       "<table border=\"1\" class=\"dataframe\">\n",
       "  <thead>\n",
       "    <tr style=\"text-align: right;\">\n",
       "      <th></th>\n",
       "      <th>n</th>\n",
       "    </tr>\n",
       "  </thead>\n",
       "  <tbody>\n",
       "    <tr>\n",
       "      <th>0</th>\n",
       "      <td>21</td>\n",
       "    </tr>\n",
       "  </tbody>\n",
       "</table>\n",
       "</div>"
      ],
      "text/plain": [
       "    n\n",
       "0  21"
      ]
     },
     "metadata": {},
     "output_type": "display_data"
    },
    {
     "name": "stdout",
     "output_type": "stream",
     "text": [
      "order_products_prior\n"
     ]
    },
    {
     "data": {
      "text/html": [
       "<div>\n",
       "<style scoped>\n",
       "    .dataframe tbody tr th:only-of-type {\n",
       "        vertical-align: middle;\n",
       "    }\n",
       "\n",
       "    .dataframe tbody tr th {\n",
       "        vertical-align: top;\n",
       "    }\n",
       "\n",
       "    .dataframe thead th {\n",
       "        text-align: right;\n",
       "    }\n",
       "</style>\n",
       "<table border=\"1\" class=\"dataframe\">\n",
       "  <thead>\n",
       "    <tr style=\"text-align: right;\">\n",
       "      <th></th>\n",
       "      <th>n</th>\n",
       "    </tr>\n",
       "  </thead>\n",
       "  <tbody>\n",
       "    <tr>\n",
       "      <th>0</th>\n",
       "      <td>32434489</td>\n",
       "    </tr>\n",
       "  </tbody>\n",
       "</table>\n",
       "</div>"
      ],
      "text/plain": [
       "          n\n",
       "0  32434489"
      ]
     },
     "metadata": {},
     "output_type": "display_data"
    },
    {
     "name": "stdout",
     "output_type": "stream",
     "text": [
      "order_products_train\n"
     ]
    },
    {
     "data": {
      "text/html": [
       "<div>\n",
       "<style scoped>\n",
       "    .dataframe tbody tr th:only-of-type {\n",
       "        vertical-align: middle;\n",
       "    }\n",
       "\n",
       "    .dataframe tbody tr th {\n",
       "        vertical-align: top;\n",
       "    }\n",
       "\n",
       "    .dataframe thead th {\n",
       "        text-align: right;\n",
       "    }\n",
       "</style>\n",
       "<table border=\"1\" class=\"dataframe\">\n",
       "  <thead>\n",
       "    <tr style=\"text-align: right;\">\n",
       "      <th></th>\n",
       "      <th>n</th>\n",
       "    </tr>\n",
       "  </thead>\n",
       "  <tbody>\n",
       "    <tr>\n",
       "      <th>0</th>\n",
       "      <td>1384617</td>\n",
       "    </tr>\n",
       "  </tbody>\n",
       "</table>\n",
       "</div>"
      ],
      "text/plain": [
       "         n\n",
       "0  1384617"
      ]
     },
     "metadata": {},
     "output_type": "display_data"
    }
   ],
   "source": [
    "queries = [\n",
    "    (\"orders\", \"SELECT COUNT(*) AS n FROM orders;\"),\n",
    "    (\"products\", \"SELECT COUNT(*) AS n FROM products;\"),\n",
    "    (\"aisles\", \"SELECT COUNT(*) AS n FROM aisles;\"),\n",
    "    (\"departments\", \"SELECT COUNT(*) AS n FROM departments;\"),\n",
    "    (\"order_products_prior\", \"SELECT COUNT(*) AS n FROM order_products_prior;\"),\n",
    "    (\"order_products_train\", \"SELECT COUNT(*) AS n FROM order_products_train;\"),\n",
    "]\n",
    "for name, q in queries:\n",
    "    print(name)\n",
    "    display(pd.read_sql(q, engine))"
   ]
  },
  {
   "cell_type": "code",
   "execution_count": 4,
   "id": "10dcdfa3",
   "metadata": {},
   "outputs": [
    {
     "data": {
      "text/html": [
       "<div>\n",
       "<style scoped>\n",
       "    .dataframe tbody tr th:only-of-type {\n",
       "        vertical-align: middle;\n",
       "    }\n",
       "\n",
       "    .dataframe tbody tr th {\n",
       "        vertical-align: top;\n",
       "    }\n",
       "\n",
       "    .dataframe thead th {\n",
       "        text-align: right;\n",
       "    }\n",
       "</style>\n",
       "<table border=\"1\" class=\"dataframe\">\n",
       "  <thead>\n",
       "    <tr style=\"text-align: right;\">\n",
       "      <th></th>\n",
       "      <th>products_null_department</th>\n",
       "      <th>products_null_aisle</th>\n",
       "    </tr>\n",
       "  </thead>\n",
       "  <tbody>\n",
       "    <tr>\n",
       "      <th>0</th>\n",
       "      <td>0</td>\n",
       "      <td>0</td>\n",
       "    </tr>\n",
       "  </tbody>\n",
       "</table>\n",
       "</div>"
      ],
      "text/plain": [
       "   products_null_department  products_null_aisle\n",
       "0                         0                    0"
      ]
     },
     "execution_count": 4,
     "metadata": {},
     "output_type": "execute_result"
    }
   ],
   "source": [
    "pd.read_sql(\"\"\"\n",
    "SELECT\n",
    "  SUM(CASE WHEN department_id IS NULL THEN 1 ELSE 0 END) AS products_null_department,\n",
    "  SUM(CASE WHEN aisle_id IS NULL THEN 1 ELSE 0 END) AS products_null_aisle\n",
    "FROM products;\n",
    "\"\"\", engine)"
   ]
  },
  {
   "cell_type": "code",
   "execution_count": 6,
   "id": "c8045784",
   "metadata": {},
   "outputs": [
    {
     "data": {
      "text/html": [
       "<div>\n",
       "<style scoped>\n",
       "    .dataframe tbody tr th:only-of-type {\n",
       "        vertical-align: middle;\n",
       "    }\n",
       "\n",
       "    .dataframe tbody tr th {\n",
       "        vertical-align: top;\n",
       "    }\n",
       "\n",
       "    .dataframe thead th {\n",
       "        text-align: right;\n",
       "    }\n",
       "</style>\n",
       "<table border=\"1\" class=\"dataframe\">\n",
       "  <thead>\n",
       "    <tr style=\"text-align: right;\">\n",
       "      <th></th>\n",
       "      <th>department</th>\n",
       "      <th>n_products</th>\n",
       "    </tr>\n",
       "  </thead>\n",
       "  <tbody>\n",
       "    <tr>\n",
       "      <th>0</th>\n",
       "      <td>personal care</td>\n",
       "      <td>6563</td>\n",
       "    </tr>\n",
       "    <tr>\n",
       "      <th>1</th>\n",
       "      <td>snacks</td>\n",
       "      <td>6264</td>\n",
       "    </tr>\n",
       "    <tr>\n",
       "      <th>2</th>\n",
       "      <td>pantry</td>\n",
       "      <td>5371</td>\n",
       "    </tr>\n",
       "    <tr>\n",
       "      <th>3</th>\n",
       "      <td>beverages</td>\n",
       "      <td>4365</td>\n",
       "    </tr>\n",
       "    <tr>\n",
       "      <th>4</th>\n",
       "      <td>frozen</td>\n",
       "      <td>4007</td>\n",
       "    </tr>\n",
       "    <tr>\n",
       "      <th>5</th>\n",
       "      <td>dairy eggs</td>\n",
       "      <td>3449</td>\n",
       "    </tr>\n",
       "    <tr>\n",
       "      <th>6</th>\n",
       "      <td>household</td>\n",
       "      <td>3085</td>\n",
       "    </tr>\n",
       "    <tr>\n",
       "      <th>7</th>\n",
       "      <td>canned goods</td>\n",
       "      <td>2092</td>\n",
       "    </tr>\n",
       "    <tr>\n",
       "      <th>8</th>\n",
       "      <td>dry goods pasta</td>\n",
       "      <td>1858</td>\n",
       "    </tr>\n",
       "    <tr>\n",
       "      <th>9</th>\n",
       "      <td>produce</td>\n",
       "      <td>1684</td>\n",
       "    </tr>\n",
       "  </tbody>\n",
       "</table>\n",
       "</div>"
      ],
      "text/plain": [
       "        department  n_products\n",
       "0    personal care        6563\n",
       "1           snacks        6264\n",
       "2           pantry        5371\n",
       "3        beverages        4365\n",
       "4           frozen        4007\n",
       "5       dairy eggs        3449\n",
       "6        household        3085\n",
       "7     canned goods        2092\n",
       "8  dry goods pasta        1858\n",
       "9          produce        1684"
      ]
     },
     "execution_count": 6,
     "metadata": {},
     "output_type": "execute_result"
    }
   ],
   "source": [
    "pd.read_sql(\"\"\"\n",
    "SELECT d.department,\n",
    "       COUNT(p.product_id) AS n_products\n",
    "FROM products p\n",
    "JOIN departments d ON d.department_id = p.department_id\n",
    "GROUP BY d.department\n",
    "ORDER BY n_products DESC\n",
    "LIMIT 10;\n",
    "\"\"\", engine)"
   ]
  },
  {
   "cell_type": "markdown",
   "id": "2117e1b9",
   "metadata": {},
   "source": [
    "## 1. Exploratory Queries – Business Basics"
   ]
  },
  {
   "cell_type": "markdown",
   "id": "e5fc62d8",
   "metadata": {},
   "source": [
    "### Query 1 – Total Orders & Unique Users"
   ]
  },
  {
   "cell_type": "code",
   "execution_count": 5,
   "id": "32c2dfa4",
   "metadata": {},
   "outputs": [
    {
     "data": {
      "text/html": [
       "<div>\n",
       "<style scoped>\n",
       "    .dataframe tbody tr th:only-of-type {\n",
       "        vertical-align: middle;\n",
       "    }\n",
       "\n",
       "    .dataframe tbody tr th {\n",
       "        vertical-align: top;\n",
       "    }\n",
       "\n",
       "    .dataframe thead th {\n",
       "        text-align: right;\n",
       "    }\n",
       "</style>\n",
       "<table border=\"1\" class=\"dataframe\">\n",
       "  <thead>\n",
       "    <tr style=\"text-align: right;\">\n",
       "      <th></th>\n",
       "      <th>n_orders</th>\n",
       "      <th>n_users</th>\n",
       "    </tr>\n",
       "  </thead>\n",
       "  <tbody>\n",
       "    <tr>\n",
       "      <th>0</th>\n",
       "      <td>3421083</td>\n",
       "      <td>206209</td>\n",
       "    </tr>\n",
       "  </tbody>\n",
       "</table>\n",
       "</div>"
      ],
      "text/plain": [
       "   n_orders  n_users\n",
       "0   3421083   206209"
      ]
     },
     "execution_count": 5,
     "metadata": {},
     "output_type": "execute_result"
    }
   ],
   "source": [
    "pd.read_sql(\"\"\"\n",
    "SELECT \n",
    "    COUNT(DISTINCT order_id) AS n_orders,\n",
    "    COUNT(DISTINCT user_id) AS n_users\n",
    "FROM orders;\n",
    "\"\"\", engine)"
   ]
  },
  {
   "cell_type": "markdown",
   "id": "bab16c80",
   "metadata": {},
   "source": [
    "### Query 2 – Orders by Day of Week"
   ]
  },
  {
   "cell_type": "code",
   "execution_count": 6,
   "id": "ad504266",
   "metadata": {},
   "outputs": [
    {
     "data": {
      "text/html": [
       "<div>\n",
       "<style scoped>\n",
       "    .dataframe tbody tr th:only-of-type {\n",
       "        vertical-align: middle;\n",
       "    }\n",
       "\n",
       "    .dataframe tbody tr th {\n",
       "        vertical-align: top;\n",
       "    }\n",
       "\n",
       "    .dataframe thead th {\n",
       "        text-align: right;\n",
       "    }\n",
       "</style>\n",
       "<table border=\"1\" class=\"dataframe\">\n",
       "  <thead>\n",
       "    <tr style=\"text-align: right;\">\n",
       "      <th></th>\n",
       "      <th>order_dow</th>\n",
       "      <th>n_orders</th>\n",
       "    </tr>\n",
       "  </thead>\n",
       "  <tbody>\n",
       "    <tr>\n",
       "      <th>0</th>\n",
       "      <td>0</td>\n",
       "      <td>600905</td>\n",
       "    </tr>\n",
       "    <tr>\n",
       "      <th>1</th>\n",
       "      <td>1</td>\n",
       "      <td>587478</td>\n",
       "    </tr>\n",
       "    <tr>\n",
       "      <th>2</th>\n",
       "      <td>2</td>\n",
       "      <td>467260</td>\n",
       "    </tr>\n",
       "    <tr>\n",
       "      <th>3</th>\n",
       "      <td>3</td>\n",
       "      <td>436972</td>\n",
       "    </tr>\n",
       "    <tr>\n",
       "      <th>4</th>\n",
       "      <td>4</td>\n",
       "      <td>426339</td>\n",
       "    </tr>\n",
       "    <tr>\n",
       "      <th>5</th>\n",
       "      <td>5</td>\n",
       "      <td>453368</td>\n",
       "    </tr>\n",
       "    <tr>\n",
       "      <th>6</th>\n",
       "      <td>6</td>\n",
       "      <td>448761</td>\n",
       "    </tr>\n",
       "  </tbody>\n",
       "</table>\n",
       "</div>"
      ],
      "text/plain": [
       "   order_dow  n_orders\n",
       "0          0    600905\n",
       "1          1    587478\n",
       "2          2    467260\n",
       "3          3    436972\n",
       "4          4    426339\n",
       "5          5    453368\n",
       "6          6    448761"
      ]
     },
     "execution_count": 6,
     "metadata": {},
     "output_type": "execute_result"
    }
   ],
   "source": [
    "pd.read_sql(\"\"\"\n",
    "SELECT order_dow, COUNT(*) AS n_orders\n",
    "FROM orders\n",
    "GROUP BY order_dow\n",
    "ORDER BY order_dow;\n",
    "\"\"\", engine)"
   ]
  },
  {
   "cell_type": "code",
   "execution_count": null,
   "id": "fc29fbd0",
   "metadata": {},
   "outputs": [
    {
     "name": "stderr",
     "output_type": "stream",
     "text": [
      "Matplotlib is building the font cache; this may take a moment.\n"
     ]
    },
    {
     "data": {
      "image/png": "[encoded data removed]",
      "text/plain": [
       "<Figure size 800x500 with 1 Axes>"
      ]
     },
     "metadata": {},
     "output_type": "display_data"
    }
   ],
   "source": [
    "import matplotlib.pyplot as plt\n",
    "\n",
    "# Bring data with SQL\n",
    "df_dow = pd.read_sql(\"\"\"\n",
    "SELECT order_dow, COUNT(*) AS n_orders\n",
    "FROM orders\n",
    "GROUP BY order_dow\n",
    "ORDER BY order_dow;\n",
    "\"\"\", engine)\n",
    "\n",
    "# Maping days (0=Sunday, 6=Saturday)\n",
    "days = [\"Sunday\",\"Monday\",\"Tuesday\",\"Wednesday\",\"Thursday\",\"Friday\",\"Saturday\"]\n",
    "df_dow[\"day_name\"] = df_dow[\"order_dow\"].map({i:day for i,day in enumerate(days)})\n",
    "\n",
    "# Grap\n",
    "plt.figure(figsize=(8,5))\n",
    "plt.bar(df_dow[\"day_name\"], df_dow[\"n_orders\"], color=\"skyblue\")\n",
    "plt.title(\"Orders by Day of Week\")\n",
    "plt.ylabel(\"Number of Orders\")\n",
    "plt.xticks(rotation=45)\n",
    "plt.show()"
   ]
  },
  {
   "cell_type": "markdown",
   "id": "acd5203c",
   "metadata": {},
   "source": [
    "### Query 3 – Orders by Hour of Day"
   ]
  },
  {
   "cell_type": "code",
   "execution_count": 7,
   "id": "335a9743",
   "metadata": {},
   "outputs": [
    {
     "data": {
      "text/html": [
       "<div>\n",
       "<style scoped>\n",
       "    .dataframe tbody tr th:only-of-type {\n",
       "        vertical-align: middle;\n",
       "    }\n",
       "\n",
       "    .dataframe tbody tr th {\n",
       "        vertical-align: top;\n",
       "    }\n",
       "\n",
       "    .dataframe thead th {\n",
       "        text-align: right;\n",
       "    }\n",
       "</style>\n",
       "<table border=\"1\" class=\"dataframe\">\n",
       "  <thead>\n",
       "    <tr style=\"text-align: right;\">\n",
       "      <th></th>\n",
       "      <th>order_hour_of_day</th>\n",
       "      <th>n_orders</th>\n",
       "    </tr>\n",
       "  </thead>\n",
       "  <tbody>\n",
       "    <tr>\n",
       "      <th>0</th>\n",
       "      <td>0</td>\n",
       "      <td>22758</td>\n",
       "    </tr>\n",
       "    <tr>\n",
       "      <th>1</th>\n",
       "      <td>1</td>\n",
       "      <td>12398</td>\n",
       "    </tr>\n",
       "    <tr>\n",
       "      <th>2</th>\n",
       "      <td>2</td>\n",
       "      <td>7539</td>\n",
       "    </tr>\n",
       "    <tr>\n",
       "      <th>3</th>\n",
       "      <td>3</td>\n",
       "      <td>5474</td>\n",
       "    </tr>\n",
       "    <tr>\n",
       "      <th>4</th>\n",
       "      <td>4</td>\n",
       "      <td>5527</td>\n",
       "    </tr>\n",
       "    <tr>\n",
       "      <th>5</th>\n",
       "      <td>5</td>\n",
       "      <td>9569</td>\n",
       "    </tr>\n",
       "    <tr>\n",
       "      <th>6</th>\n",
       "      <td>6</td>\n",
       "      <td>30529</td>\n",
       "    </tr>\n",
       "    <tr>\n",
       "      <th>7</th>\n",
       "      <td>7</td>\n",
       "      <td>91868</td>\n",
       "    </tr>\n",
       "    <tr>\n",
       "      <th>8</th>\n",
       "      <td>8</td>\n",
       "      <td>178201</td>\n",
       "    </tr>\n",
       "    <tr>\n",
       "      <th>9</th>\n",
       "      <td>9</td>\n",
       "      <td>257812</td>\n",
       "    </tr>\n",
       "    <tr>\n",
       "      <th>10</th>\n",
       "      <td>10</td>\n",
       "      <td>288418</td>\n",
       "    </tr>\n",
       "    <tr>\n",
       "      <th>11</th>\n",
       "      <td>11</td>\n",
       "      <td>284728</td>\n",
       "    </tr>\n",
       "    <tr>\n",
       "      <th>12</th>\n",
       "      <td>12</td>\n",
       "      <td>272841</td>\n",
       "    </tr>\n",
       "    <tr>\n",
       "      <th>13</th>\n",
       "      <td>13</td>\n",
       "      <td>277999</td>\n",
       "    </tr>\n",
       "    <tr>\n",
       "      <th>14</th>\n",
       "      <td>14</td>\n",
       "      <td>283042</td>\n",
       "    </tr>\n",
       "    <tr>\n",
       "      <th>15</th>\n",
       "      <td>15</td>\n",
       "      <td>283639</td>\n",
       "    </tr>\n",
       "    <tr>\n",
       "      <th>16</th>\n",
       "      <td>16</td>\n",
       "      <td>272553</td>\n",
       "    </tr>\n",
       "    <tr>\n",
       "      <th>17</th>\n",
       "      <td>17</td>\n",
       "      <td>228795</td>\n",
       "    </tr>\n",
       "    <tr>\n",
       "      <th>18</th>\n",
       "      <td>18</td>\n",
       "      <td>182912</td>\n",
       "    </tr>\n",
       "    <tr>\n",
       "      <th>19</th>\n",
       "      <td>19</td>\n",
       "      <td>140569</td>\n",
       "    </tr>\n",
       "    <tr>\n",
       "      <th>20</th>\n",
       "      <td>20</td>\n",
       "      <td>104292</td>\n",
       "    </tr>\n",
       "    <tr>\n",
       "      <th>21</th>\n",
       "      <td>21</td>\n",
       "      <td>78109</td>\n",
       "    </tr>\n",
       "    <tr>\n",
       "      <th>22</th>\n",
       "      <td>22</td>\n",
       "      <td>61468</td>\n",
       "    </tr>\n",
       "    <tr>\n",
       "      <th>23</th>\n",
       "      <td>23</td>\n",
       "      <td>40043</td>\n",
       "    </tr>\n",
       "  </tbody>\n",
       "</table>\n",
       "</div>"
      ],
      "text/plain": [
       "    order_hour_of_day  n_orders\n",
       "0                   0     22758\n",
       "1                   1     12398\n",
       "2                   2      7539\n",
       "3                   3      5474\n",
       "4                   4      5527\n",
       "5                   5      9569\n",
       "6                   6     30529\n",
       "7                   7     91868\n",
       "8                   8    178201\n",
       "9                   9    257812\n",
       "10                 10    288418\n",
       "11                 11    284728\n",
       "12                 12    272841\n",
       "13                 13    277999\n",
       "14                 14    283042\n",
       "15                 15    283639\n",
       "16                 16    272553\n",
       "17                 17    228795\n",
       "18                 18    182912\n",
       "19                 19    140569\n",
       "20                 20    104292\n",
       "21                 21     78109\n",
       "22                 22     61468\n",
       "23                 23     40043"
      ]
     },
     "execution_count": 7,
     "metadata": {},
     "output_type": "execute_result"
    }
   ],
   "source": [
    "pd.read_sql(\"\"\"\n",
    "SELECT order_hour_of_day, COUNT(*) AS n_orders\n",
    "FROM orders\n",
    "GROUP BY order_hour_of_day\n",
    "ORDER BY order_hour_of_day;\n",
    "\"\"\", engine)"
   ]
  },
  {
   "cell_type": "code",
   "execution_count": null,
   "id": "c296c383",
   "metadata": {},
   "outputs": [
    {
     "data": {
      "image/png": "[encoded data removed]",
      "text/plain": [
       "<Figure size 1000x500 with 1 Axes>"
      ]
     },
     "metadata": {},
     "output_type": "display_data"
    }
   ],
   "source": [
    "# Bring data with SQL\n",
    "df_hour = pd.read_sql(\"\"\"\n",
    "SELECT order_hour_of_day, COUNT(*) AS n_orders\n",
    "FROM orders\n",
    "GROUP BY order_hour_of_day\n",
    "ORDER BY order_hour_of_day;\n",
    "\"\"\", engine)\n",
    "\n",
    "# Grap – Orders by Hour of Day\n",
    "fig, ax = plt.subplots(figsize=(10,5))\n",
    "\n",
    "ax.plot(df_hour[\"order_hour_of_day\"], df_hour[\"n_orders\"], marker=\"o\", color=\"green\")\n",
    "ax.set_title(\"Orders by Hour of Day\")\n",
    "ax.set_xlabel(\"Hour of Day (0–23)\")\n",
    "ax.set_ylabel(\"Number of Orders\")\n",
    "ax.set_xticks(range(0,24))\n",
    "ax.grid(True, linestyle=\"--\", alpha=0.6)\n",
    "\n",
    "# Save before showing\n",
    "fig.tight_layout()\n",
    "fig.savefig(FIGS / \"orders_by_hour.png\", dpi=220, bbox_inches=\"tight\")\n",
    "plt.show()\n"
   ]
  },
  {
   "cell_type": "markdown",
   "id": "0fd61392",
   "metadata": {},
   "source": [
    "### Query 4 – Top 10 Most Purchased Products\n",
    "We want to identify which products are bought most frequently across all orders.  \n",
    "This helps the business understand product popularity and manage inventory accordingly."
   ]
  },
  {
   "cell_type": "code",
   "execution_count": 10,
   "id": "6cef652c",
   "metadata": {},
   "outputs": [
    {
     "data": {
      "text/html": [
       "<div>\n",
       "<style scoped>\n",
       "    .dataframe tbody tr th:only-of-type {\n",
       "        vertical-align: middle;\n",
       "    }\n",
       "\n",
       "    .dataframe tbody tr th {\n",
       "        vertical-align: top;\n",
       "    }\n",
       "\n",
       "    .dataframe thead th {\n",
       "        text-align: right;\n",
       "    }\n",
       "</style>\n",
       "<table border=\"1\" class=\"dataframe\">\n",
       "  <thead>\n",
       "    <tr style=\"text-align: right;\">\n",
       "      <th></th>\n",
       "      <th>product_name</th>\n",
       "      <th>n_purchases</th>\n",
       "    </tr>\n",
       "  </thead>\n",
       "  <tbody>\n",
       "    <tr>\n",
       "      <th>0</th>\n",
       "      <td>Banana</td>\n",
       "      <td>472565</td>\n",
       "    </tr>\n",
       "    <tr>\n",
       "      <th>1</th>\n",
       "      <td>Bag of Organic Bananas</td>\n",
       "      <td>379450</td>\n",
       "    </tr>\n",
       "    <tr>\n",
       "      <th>2</th>\n",
       "      <td>Organic Strawberries</td>\n",
       "      <td>264683</td>\n",
       "    </tr>\n",
       "    <tr>\n",
       "      <th>3</th>\n",
       "      <td>Organic Baby Spinach</td>\n",
       "      <td>241921</td>\n",
       "    </tr>\n",
       "    <tr>\n",
       "      <th>4</th>\n",
       "      <td>Organic Hass Avocado</td>\n",
       "      <td>213584</td>\n",
       "    </tr>\n",
       "    <tr>\n",
       "      <th>5</th>\n",
       "      <td>Organic Avocado</td>\n",
       "      <td>176815</td>\n",
       "    </tr>\n",
       "    <tr>\n",
       "      <th>6</th>\n",
       "      <td>Large Lemon</td>\n",
       "      <td>152657</td>\n",
       "    </tr>\n",
       "    <tr>\n",
       "      <th>7</th>\n",
       "      <td>Strawberries</td>\n",
       "      <td>142951</td>\n",
       "    </tr>\n",
       "    <tr>\n",
       "      <th>8</th>\n",
       "      <td>Limes</td>\n",
       "      <td>140627</td>\n",
       "    </tr>\n",
       "    <tr>\n",
       "      <th>9</th>\n",
       "      <td>Organic Whole Milk</td>\n",
       "      <td>137905</td>\n",
       "    </tr>\n",
       "  </tbody>\n",
       "</table>\n",
       "</div>"
      ],
      "text/plain": [
       "             product_name  n_purchases\n",
       "0                  Banana       472565\n",
       "1  Bag of Organic Bananas       379450\n",
       "2    Organic Strawberries       264683\n",
       "3    Organic Baby Spinach       241921\n",
       "4    Organic Hass Avocado       213584\n",
       "5         Organic Avocado       176815\n",
       "6             Large Lemon       152657\n",
       "7            Strawberries       142951\n",
       "8                   Limes       140627\n",
       "9      Organic Whole Milk       137905"
      ]
     },
     "execution_count": 10,
     "metadata": {},
     "output_type": "execute_result"
    }
   ],
   "source": [
    "pd.read_sql(\"\"\"\n",
    "SELECT p.product_name,\n",
    "       COUNT(op.product_id) AS n_purchases\n",
    "FROM order_products_prior op\n",
    "JOIN products p ON p.product_id = op.product_id\n",
    "GROUP BY p.product_name\n",
    "ORDER BY n_purchases DESC\n",
    "LIMIT 10;\n",
    "\"\"\", engine)"
   ]
  },
  {
   "cell_type": "code",
   "execution_count": null,
   "id": "7d12b250",
   "metadata": {},
   "outputs": [
    {
     "data": {
      "image/png": "[encoded data removed]",
      "text/plain": [
       "<Figure size 1000x600 with 1 Axes>"
      ]
     },
     "metadata": {},
     "output_type": "display_data"
    }
   ],
   "source": [
    "# Query in dataframe\n",
    "df_top_products = pd.read_sql(\"\"\"\n",
    "SELECT p.product_name,\n",
    "       COUNT(op.product_id) AS n_purchases\n",
    "FROM order_products_prior op\n",
    "JOIN products p ON p.product_id = op.product_id\n",
    "GROUP BY p.product_name\n",
    "ORDER BY n_purchases DESC\n",
    "LIMIT 10;\n",
    "\"\"\", engine)\n",
    "\n",
    "# Graph – Top 10 Most Purchased Products\n",
    "plt.figure(figsize=(10,6))\n",
    "plt.barh(df_top_products[\"product_name\"], df_top_products[\"n_purchases\"], color=\"orange\")\n",
    "plt.title(\"Top 10 Most Purchased Products\")\n",
    "plt.xlabel(\"Number of Purchases\")\n",
    "plt.gca().invert_yaxis()  # para que el top 1 quede arriba\n",
    "plt.show()"
   ]
  },
  {
   "cell_type": "markdown",
   "id": "d3eb3f0f",
   "metadata": {},
   "source": [
    "### Query 5 – Top Departments by Purchase Volume\n",
    "To get a higher-level view of customer preferences, we analyze purchases grouped by department.  \n",
    "This tells us which product categories generate the most demand."
   ]
  },
  {
   "cell_type": "code",
   "execution_count": 11,
   "id": "95019c46",
   "metadata": {},
   "outputs": [
    {
     "data": {
      "text/html": [
       "<div>\n",
       "<style scoped>\n",
       "    .dataframe tbody tr th:only-of-type {\n",
       "        vertical-align: middle;\n",
       "    }\n",
       "\n",
       "    .dataframe tbody tr th {\n",
       "        vertical-align: top;\n",
       "    }\n",
       "\n",
       "    .dataframe thead th {\n",
       "        text-align: right;\n",
       "    }\n",
       "</style>\n",
       "<table border=\"1\" class=\"dataframe\">\n",
       "  <thead>\n",
       "    <tr style=\"text-align: right;\">\n",
       "      <th></th>\n",
       "      <th>department</th>\n",
       "      <th>n_purchases</th>\n",
       "    </tr>\n",
       "  </thead>\n",
       "  <tbody>\n",
       "    <tr>\n",
       "      <th>0</th>\n",
       "      <td>produce</td>\n",
       "      <td>9479291</td>\n",
       "    </tr>\n",
       "    <tr>\n",
       "      <th>1</th>\n",
       "      <td>dairy eggs</td>\n",
       "      <td>5414016</td>\n",
       "    </tr>\n",
       "    <tr>\n",
       "      <th>2</th>\n",
       "      <td>snacks</td>\n",
       "      <td>2887550</td>\n",
       "    </tr>\n",
       "    <tr>\n",
       "      <th>3</th>\n",
       "      <td>beverages</td>\n",
       "      <td>2690129</td>\n",
       "    </tr>\n",
       "    <tr>\n",
       "      <th>4</th>\n",
       "      <td>frozen</td>\n",
       "      <td>2236432</td>\n",
       "    </tr>\n",
       "    <tr>\n",
       "      <th>5</th>\n",
       "      <td>pantry</td>\n",
       "      <td>1875577</td>\n",
       "    </tr>\n",
       "    <tr>\n",
       "      <th>6</th>\n",
       "      <td>bakery</td>\n",
       "      <td>1176787</td>\n",
       "    </tr>\n",
       "    <tr>\n",
       "      <th>7</th>\n",
       "      <td>canned goods</td>\n",
       "      <td>1068058</td>\n",
       "    </tr>\n",
       "    <tr>\n",
       "      <th>8</th>\n",
       "      <td>deli</td>\n",
       "      <td>1051249</td>\n",
       "    </tr>\n",
       "    <tr>\n",
       "      <th>9</th>\n",
       "      <td>dry goods pasta</td>\n",
       "      <td>866627</td>\n",
       "    </tr>\n",
       "  </tbody>\n",
       "</table>\n",
       "</div>"
      ],
      "text/plain": [
       "        department  n_purchases\n",
       "0          produce      9479291\n",
       "1       dairy eggs      5414016\n",
       "2           snacks      2887550\n",
       "3        beverages      2690129\n",
       "4           frozen      2236432\n",
       "5           pantry      1875577\n",
       "6           bakery      1176787\n",
       "7     canned goods      1068058\n",
       "8             deli      1051249\n",
       "9  dry goods pasta       866627"
      ]
     },
     "execution_count": 11,
     "metadata": {},
     "output_type": "execute_result"
    }
   ],
   "source": [
    "pd.read_sql(\"\"\"\n",
    "SELECT d.department,\n",
    "       COUNT(op.product_id) AS n_purchases\n",
    "FROM order_products_prior op\n",
    "JOIN products p ON p.product_id = op.product_id\n",
    "JOIN departments d ON d.department_id = p.department_id\n",
    "GROUP BY d.department\n",
    "ORDER BY n_purchases DESC\n",
    "LIMIT 10;\n",
    "\"\"\", engine)"
   ]
  },
  {
   "cell_type": "code",
   "execution_count": null,
   "id": "f005aa91",
   "metadata": {},
   "outputs": [
    {
     "name": "stderr",
     "output_type": "stream",
     "text": [
      "/var/folders/rp/npvgzw7d46s82_ph0ggm655r0000gn/T/ipykernel_34127/3108920438.py:18: UserWarning: set_ticklabels() should only be used with a fixed number of ticks, i.e. after set_ticks() or using a FixedLocator.\n",
      "  ax.set_xticklabels(df_top_departments[\"department\"], rotation=45, ha=\"right\")\n"
     ]
    },
    {
     "data": {
      "image/png": "[encoded data removed]",
      "text/plain": [
       "<Figure size 900x500 with 1 Axes>"
      ]
     },
     "metadata": {},
     "output_type": "display_data"
    }
   ],
   "source": [
    "# Query in dataframe\n",
    "df_top_departments = pd.read_sql(\"\"\"\n",
    "SELECT d.department,\n",
    "       COUNT(op.product_id) AS n_purchases\n",
    "FROM order_products_prior op\n",
    "JOIN products p ON p.product_id = op.product_id\n",
    "JOIN departments d ON d.department_id = p.department_id\n",
    "GROUP BY d.department\n",
    "ORDER BY n_purchases DESC\n",
    "LIMIT 10;\n",
    "\"\"\", engine)\n",
    "\n",
    "# Grap and export\n",
    "fig, ax = plt.subplots(figsize=(9,5))\n",
    "ax.bar(df_top_departments[\"department\"], df_top_departments[\"n_purchases\"])\n",
    "ax.set_title(\"Top Departments by Purchase Volume\")\n",
    "ax.set_ylabel(\"Number of Purchases\")\n",
    "ax.set_xticklabels(df_top_departments[\"department\"], rotation=45, ha=\"right\")\n",
    "\n",
    "fig.tight_layout()\n",
    "fig.savefig(FIGS / \"top_departments.png\", dpi=220, bbox_inches=\"tight\")\n",
    "plt.show()"
   ]
  },
  {
   "cell_type": "markdown",
   "id": "985d3940",
   "metadata": {},
   "source": [
    "### Query 6 – Average Number of Products per Order\n",
    "We want to calculate the average basket size (how many products each order contains).  \n",
    "This metric is useful for logistics and marketing, since it helps estimate revenue per order and customer buying patterns."
   ]
  },
  {
   "cell_type": "code",
   "execution_count": 14,
   "id": "b485b190",
   "metadata": {},
   "outputs": [
    {
     "data": {
      "text/html": [
       "<div>\n",
       "<style scoped>\n",
       "    .dataframe tbody tr th:only-of-type {\n",
       "        vertical-align: middle;\n",
       "    }\n",
       "\n",
       "    .dataframe tbody tr th {\n",
       "        vertical-align: top;\n",
       "    }\n",
       "\n",
       "    .dataframe thead th {\n",
       "        text-align: right;\n",
       "    }\n",
       "</style>\n",
       "<table border=\"1\" class=\"dataframe\">\n",
       "  <thead>\n",
       "    <tr style=\"text-align: right;\">\n",
       "      <th></th>\n",
       "      <th>avg_products_per_order</th>\n",
       "    </tr>\n",
       "  </thead>\n",
       "  <tbody>\n",
       "    <tr>\n",
       "      <th>0</th>\n",
       "      <td>10.088883</td>\n",
       "    </tr>\n",
       "  </tbody>\n",
       "</table>\n",
       "</div>"
      ],
      "text/plain": [
       "   avg_products_per_order\n",
       "0               10.088883"
      ]
     },
     "execution_count": 14,
     "metadata": {},
     "output_type": "execute_result"
    }
   ],
   "source": [
    "pd.read_sql(\"\"\"\n",
    "SELECT AVG(n_products) AS avg_products_per_order\n",
    "FROM (\n",
    "    SELECT order_id, COUNT(*) AS n_products\n",
    "    FROM order_products_prior\n",
    "    GROUP BY order_id\n",
    ");\n",
    "\"\"\", engine)"
   ]
  },
  {
   "cell_type": "code",
   "execution_count": null,
   "id": "3c159023",
   "metadata": {},
   "outputs": [
    {
     "data": {
      "image/png": "[encoded data removed]",
      "text/plain": [
       "<Figure size 900x500 with 1 Axes>"
      ]
     },
     "metadata": {},
     "output_type": "display_data"
    }
   ],
   "source": [
    "df_order_size = pd.read_sql(\"\"\"\n",
    "SELECT order_id, COUNT(*) AS n_products\n",
    "FROM order_products_prior\n",
    "GROUP BY order_id;\n",
    "\"\"\", engine)\n",
    "\n",
    "# Grap and export\n",
    "fig, ax = plt.subplots(figsize=(9,5))\n",
    "ax.hist(df_order_size[\"n_products\"], bins=30, edgecolor=\"black\")\n",
    "ax.set_title(\"Distribution of Order Sizes\")\n",
    "ax.set_xlabel(\"Number of Products per Order\")\n",
    "ax.set_ylabel(\"Number of Orders\")\n",
    "\n",
    "fig.tight_layout()\n",
    "fig.savefig(FIGS / \"basket_size_hist.png\", dpi=220, bbox_inches=\"tight\")\n",
    "plt.show()"
   ]
  },
  {
   "cell_type": "markdown",
   "id": "8167dfbb",
   "metadata": {},
   "source": [
    "### Query 7 – Reorder Rate\n",
    "We analyze how many products are purchased again (`reordered = 1`).  \n",
    "This shows customer loyalty to specific products and helps identify anchor products that drive repeat sales."
   ]
  },
  {
   "cell_type": "code",
   "execution_count": 16,
   "id": "a8d9a2ce",
   "metadata": {},
   "outputs": [
    {
     "data": {
      "text/html": [
       "<div>\n",
       "<style scoped>\n",
       "    .dataframe tbody tr th:only-of-type {\n",
       "        vertical-align: middle;\n",
       "    }\n",
       "\n",
       "    .dataframe tbody tr th {\n",
       "        vertical-align: top;\n",
       "    }\n",
       "\n",
       "    .dataframe thead th {\n",
       "        text-align: right;\n",
       "    }\n",
       "</style>\n",
       "<table border=\"1\" class=\"dataframe\">\n",
       "  <thead>\n",
       "    <tr style=\"text-align: right;\">\n",
       "      <th></th>\n",
       "      <th>reorder_rate</th>\n",
       "    </tr>\n",
       "  </thead>\n",
       "  <tbody>\n",
       "    <tr>\n",
       "      <th>0</th>\n",
       "      <td>0.589697</td>\n",
       "    </tr>\n",
       "  </tbody>\n",
       "</table>\n",
       "</div>"
      ],
      "text/plain": [
       "   reorder_rate\n",
       "0      0.589697"
      ]
     },
     "execution_count": 16,
     "metadata": {},
     "output_type": "execute_result"
    }
   ],
   "source": [
    "pd.read_sql(\"\"\"\n",
    "SELECT \n",
    "    SUM(CASE WHEN reordered = 1 THEN 1 ELSE 0 END) * 1.0 / COUNT(*) AS reorder_rate\n",
    "FROM order_products_prior;\n",
    "\"\"\", engine)"
   ]
  },
  {
   "cell_type": "markdown",
   "id": "b851e85e",
   "metadata": {},
   "source": [
    "### Query 8 – Distribution of Orders per User\n",
    "We calculate how many orders each user has placed.  \n",
    "This shows the overall distribution of customer activity (one-time vs repeat customers)."
   ]
  },
  {
   "cell_type": "code",
   "execution_count": 18,
   "id": "b642c80b",
   "metadata": {},
   "outputs": [
    {
     "data": {
      "text/html": [
       "<div>\n",
       "<style scoped>\n",
       "    .dataframe tbody tr th:only-of-type {\n",
       "        vertical-align: middle;\n",
       "    }\n",
       "\n",
       "    .dataframe tbody tr th {\n",
       "        vertical-align: top;\n",
       "    }\n",
       "\n",
       "    .dataframe thead th {\n",
       "        text-align: right;\n",
       "    }\n",
       "</style>\n",
       "<table border=\"1\" class=\"dataframe\">\n",
       "  <thead>\n",
       "    <tr style=\"text-align: right;\">\n",
       "      <th></th>\n",
       "      <th>user_id</th>\n",
       "      <th>n_orders</th>\n",
       "    </tr>\n",
       "  </thead>\n",
       "  <tbody>\n",
       "    <tr>\n",
       "      <th>0</th>\n",
       "      <td>1</td>\n",
       "      <td>11</td>\n",
       "    </tr>\n",
       "    <tr>\n",
       "      <th>1</th>\n",
       "      <td>2</td>\n",
       "      <td>15</td>\n",
       "    </tr>\n",
       "    <tr>\n",
       "      <th>2</th>\n",
       "      <td>3</td>\n",
       "      <td>13</td>\n",
       "    </tr>\n",
       "    <tr>\n",
       "      <th>3</th>\n",
       "      <td>4</td>\n",
       "      <td>6</td>\n",
       "    </tr>\n",
       "    <tr>\n",
       "      <th>4</th>\n",
       "      <td>5</td>\n",
       "      <td>5</td>\n",
       "    </tr>\n",
       "  </tbody>\n",
       "</table>\n",
       "</div>"
      ],
      "text/plain": [
       "   user_id  n_orders\n",
       "0        1        11\n",
       "1        2        15\n",
       "2        3        13\n",
       "3        4         6\n",
       "4        5         5"
      ]
     },
     "execution_count": 18,
     "metadata": {},
     "output_type": "execute_result"
    }
   ],
   "source": [
    "df_orders_per_user = pd.read_sql(\"\"\"\n",
    "SELECT user_id, COUNT(*) AS n_orders\n",
    "FROM orders\n",
    "GROUP BY user_id;\n",
    "\"\"\", engine)\n",
    "\n",
    "df_orders_per_user.head()"
   ]
  },
  {
   "cell_type": "code",
   "execution_count": 19,
   "id": "0396c49d",
   "metadata": {},
   "outputs": [
    {
     "data": {
      "image/png": "[encoded data removed]",
      "text/plain": [
       "<Figure size 800x500 with 1 Axes>"
      ]
     },
     "metadata": {},
     "output_type": "display_data"
    }
   ],
   "source": [
    "plt.figure(figsize=(8,5))\n",
    "plt.hist(df_orders_per_user[\"n_orders\"], bins=30, color=\"salmon\", edgecolor=\"black\")\n",
    "plt.title(\"Distribution of Number of Orders per User\")\n",
    "plt.xlabel(\"Number of Orders\")\n",
    "plt.ylabel(\"Number of Users\")\n",
    "plt.show()"
   ]
  },
  {
   "cell_type": "markdown",
   "id": "226f74b4",
   "metadata": {},
   "source": [
    "### Query 9 – Average Days Between Orders\n",
    "We analyze the column `days_since_prior_order` from the orders table to estimate purchase recency."
   ]
  },
  {
   "cell_type": "code",
   "execution_count": 20,
   "id": "3d23dfd7",
   "metadata": {},
   "outputs": [
    {
     "data": {
      "text/html": [
       "<div>\n",
       "<style scoped>\n",
       "    .dataframe tbody tr th:only-of-type {\n",
       "        vertical-align: middle;\n",
       "    }\n",
       "\n",
       "    .dataframe tbody tr th {\n",
       "        vertical-align: top;\n",
       "    }\n",
       "\n",
       "    .dataframe thead th {\n",
       "        text-align: right;\n",
       "    }\n",
       "</style>\n",
       "<table border=\"1\" class=\"dataframe\">\n",
       "  <thead>\n",
       "    <tr style=\"text-align: right;\">\n",
       "      <th></th>\n",
       "      <th>avg_days_between_orders</th>\n",
       "      <th>min_days</th>\n",
       "      <th>max_days</th>\n",
       "    </tr>\n",
       "  </thead>\n",
       "  <tbody>\n",
       "    <tr>\n",
       "      <th>0</th>\n",
       "      <td>11.114836</td>\n",
       "      <td>0.0</td>\n",
       "      <td>30.0</td>\n",
       "    </tr>\n",
       "  </tbody>\n",
       "</table>\n",
       "</div>"
      ],
      "text/plain": [
       "   avg_days_between_orders  min_days  max_days\n",
       "0                11.114836       0.0      30.0"
      ]
     },
     "execution_count": 20,
     "metadata": {},
     "output_type": "execute_result"
    }
   ],
   "source": [
    "pd.read_sql(\"\"\"\n",
    "SELECT \n",
    "    AVG(days_since_prior_order) AS avg_days_between_orders,\n",
    "    MIN(days_since_prior_order) AS min_days,\n",
    "    MAX(days_since_prior_order) AS max_days\n",
    "FROM orders\n",
    "WHERE days_since_prior_order IS NOT NULL;\n",
    "\"\"\", engine)"
   ]
  },
  {
   "cell_type": "code",
   "execution_count": 21,
   "id": "c1d76526",
   "metadata": {},
   "outputs": [
    {
     "data": {
      "image/png": "[encoded data removed]",
      "text/plain": [
       "<Figure size 800x500 with 1 Axes>"
      ]
     },
     "metadata": {},
     "output_type": "display_data"
    }
   ],
   "source": [
    "df_days = pd.read_sql(\"\"\"\n",
    "SELECT days_since_prior_order\n",
    "FROM orders\n",
    "WHERE days_since_prior_order IS NOT NULL;\n",
    "\"\"\", engine)\n",
    "\n",
    "plt.figure(figsize=(8,5))\n",
    "plt.hist(df_days[\"days_since_prior_order\"], bins=30, color=\"teal\", edgecolor=\"black\")\n",
    "plt.title(\"Distribution of Days Between Orders\")\n",
    "plt.xlabel(\"Days Between Orders\")\n",
    "plt.ylabel(\"Number of Orders\")\n",
    "plt.show()"
   ]
  },
  {
   "cell_type": "markdown",
   "id": "4b83b77a",
   "metadata": {},
   "source": [
    "### Query 10 – Orders Heatmap by Day and Hour\n",
    "We want to understand at which combinations of day and hour customers place the most orders.  \n",
    "This analysis helps the business optimize staffing, promotions, and logistics operations."
   ]
  },
  {
   "cell_type": "code",
   "execution_count": 9,
   "id": "a652750c",
   "metadata": {},
   "outputs": [
    {
     "data": {
      "text/html": [
       "<div>\n",
       "<style scoped>\n",
       "    .dataframe tbody tr th:only-of-type {\n",
       "        vertical-align: middle;\n",
       "    }\n",
       "\n",
       "    .dataframe tbody tr th {\n",
       "        vertical-align: top;\n",
       "    }\n",
       "\n",
       "    .dataframe thead th {\n",
       "        text-align: right;\n",
       "    }\n",
       "</style>\n",
       "<table border=\"1\" class=\"dataframe\">\n",
       "  <thead>\n",
       "    <tr style=\"text-align: right;\">\n",
       "      <th></th>\n",
       "      <th>order_dow</th>\n",
       "      <th>order_hour_of_day</th>\n",
       "      <th>n_orders</th>\n",
       "    </tr>\n",
       "  </thead>\n",
       "  <tbody>\n",
       "    <tr>\n",
       "      <th>0</th>\n",
       "      <td>0</td>\n",
       "      <td>0</td>\n",
       "      <td>3936</td>\n",
       "    </tr>\n",
       "    <tr>\n",
       "      <th>1</th>\n",
       "      <td>0</td>\n",
       "      <td>1</td>\n",
       "      <td>2398</td>\n",
       "    </tr>\n",
       "    <tr>\n",
       "      <th>2</th>\n",
       "      <td>0</td>\n",
       "      <td>2</td>\n",
       "      <td>1409</td>\n",
       "    </tr>\n",
       "    <tr>\n",
       "      <th>3</th>\n",
       "      <td>0</td>\n",
       "      <td>3</td>\n",
       "      <td>963</td>\n",
       "    </tr>\n",
       "    <tr>\n",
       "      <th>4</th>\n",
       "      <td>0</td>\n",
       "      <td>4</td>\n",
       "      <td>813</td>\n",
       "    </tr>\n",
       "  </tbody>\n",
       "</table>\n",
       "</div>"
      ],
      "text/plain": [
       "   order_dow  order_hour_of_day  n_orders\n",
       "0          0                  0      3936\n",
       "1          0                  1      2398\n",
       "2          0                  2      1409\n",
       "3          0                  3       963\n",
       "4          0                  4       813"
      ]
     },
     "execution_count": 9,
     "metadata": {},
     "output_type": "execute_result"
    }
   ],
   "source": [
    "df_heat = pd.read_sql(\"\"\"\n",
    "SELECT order_dow, order_hour_of_day, COUNT(*) AS n_orders\n",
    "FROM orders\n",
    "GROUP BY order_dow, order_hour_of_day\n",
    "ORDER BY order_dow, order_hour_of_day;\n",
    "\"\"\", engine)\n",
    "\n",
    "df_heat.head()"
   ]
  },
  {
   "cell_type": "code",
   "execution_count": null,
   "id": "95f0bcb8",
   "metadata": {},
   "outputs": [
    {
     "data": {
      "image/png": "[encoded data removed]",
      "text/plain": [
       "<Figure size 1200x500 with 2 Axes>"
      ]
     },
     "metadata": {},
     "output_type": "display_data"
    }
   ],
   "source": [
    "import matplotlib.pyplot as plt\n",
    "\n",
    "# Pivot \n",
    "days = [\"Sunday\",\"Monday\",\"Tuesday\",\"Wednesday\",\"Thursday\",\"Friday\",\"Saturday\"]\n",
    "pivot = (df_heat\n",
    "         .pivot(index=\"order_dow\", columns=\"order_hour_of_day\", values=\"n_orders\")\n",
    "         .reindex(index=range(7)))  # asegurar 0–6\n",
    "\n",
    "# 3) Heatmap + Export\n",
    "fig, ax = plt.subplots(figsize=(12,5))\n",
    "im = ax.imshow(pivot, aspect=\"auto\", cmap=\"YlGnBu\")\n",
    "\n",
    "ax.set_title(\"Orders Heatmap by Day and Hour\")\n",
    "ax.set_xlabel(\"Hour of Day (0–23)\")\n",
    "ax.set_ylabel(\"Day of Week\")\n",
    "ax.set_yticks(range(7))\n",
    "ax.set_yticklabels(days)\n",
    "\n",
    "cbar = fig.colorbar(im, ax=ax)\n",
    "cbar.set_label(\"Number of Orders\")\n",
    "\n",
    "fig.tight_layout()\n",
    "# Save before showing\n",
    "fig.savefig(FIGS / \"orders_heatmap.png\", dpi=220, bbox_inches=\"tight\")\n",
    "plt.show()\n",
    "\n"
   ]
  },
  {
   "cell_type": "markdown",
   "id": "02fd1e5f",
   "metadata": {},
   "source": [
    "### Query 11 – Top Products by Reorder Rate (Support ≥ 50k)\n",
    "We want to identify which products have the highest reorder rate (percentage of times they were reordered),  \n",
    "but only considering products with a large number of purchases (≥ 50,000).  \n",
    "This helps the business focus on “anchor products” that customers buy repeatedly."
   ]
  },
  {
   "cell_type": "code",
   "execution_count": 24,
   "id": "b1277ae2",
   "metadata": {},
   "outputs": [
    {
     "data": {
      "text/html": [
       "<div>\n",
       "<style scoped>\n",
       "    .dataframe tbody tr th:only-of-type {\n",
       "        vertical-align: middle;\n",
       "    }\n",
       "\n",
       "    .dataframe tbody tr th {\n",
       "        vertical-align: top;\n",
       "    }\n",
       "\n",
       "    .dataframe thead th {\n",
       "        text-align: right;\n",
       "    }\n",
       "</style>\n",
       "<table border=\"1\" class=\"dataframe\">\n",
       "  <thead>\n",
       "    <tr style=\"text-align: right;\">\n",
       "      <th></th>\n",
       "      <th>product_name</th>\n",
       "      <th>total_purchases</th>\n",
       "      <th>reorder_rate</th>\n",
       "    </tr>\n",
       "  </thead>\n",
       "  <tbody>\n",
       "    <tr>\n",
       "      <th>0</th>\n",
       "      <td>Banana</td>\n",
       "      <td>472565</td>\n",
       "      <td>0.843501</td>\n",
       "    </tr>\n",
       "    <tr>\n",
       "      <th>1</th>\n",
       "      <td>Bag of Organic Bananas</td>\n",
       "      <td>379450</td>\n",
       "      <td>0.832555</td>\n",
       "    </tr>\n",
       "    <tr>\n",
       "      <th>2</th>\n",
       "      <td>Organic Whole Milk</td>\n",
       "      <td>137905</td>\n",
       "      <td>0.830354</td>\n",
       "    </tr>\n",
       "    <tr>\n",
       "      <th>3</th>\n",
       "      <td>Spring Water</td>\n",
       "      <td>56087</td>\n",
       "      <td>0.812274</td>\n",
       "    </tr>\n",
       "    <tr>\n",
       "      <th>4</th>\n",
       "      <td>Organic Hass Avocado</td>\n",
       "      <td>213584</td>\n",
       "      <td>0.796553</td>\n",
       "    </tr>\n",
       "    <tr>\n",
       "      <th>5</th>\n",
       "      <td>Organic Half &amp; Half</td>\n",
       "      <td>76360</td>\n",
       "      <td>0.781456</td>\n",
       "    </tr>\n",
       "    <tr>\n",
       "      <th>6</th>\n",
       "      <td>Organic Strawberries</td>\n",
       "      <td>264683</td>\n",
       "      <td>0.777704</td>\n",
       "    </tr>\n",
       "    <tr>\n",
       "      <th>7</th>\n",
       "      <td>Organic Baby Spinach</td>\n",
       "      <td>241921</td>\n",
       "      <td>0.772500</td>\n",
       "    </tr>\n",
       "    <tr>\n",
       "      <th>8</th>\n",
       "      <td>Sparkling Water Grapefruit</td>\n",
       "      <td>75886</td>\n",
       "      <td>0.771064</td>\n",
       "    </tr>\n",
       "    <tr>\n",
       "      <th>9</th>\n",
       "      <td>Organic Raspberries</td>\n",
       "      <td>137057</td>\n",
       "      <td>0.769089</td>\n",
       "    </tr>\n",
       "  </tbody>\n",
       "</table>\n",
       "</div>"
      ],
      "text/plain": [
       "                 product_name  total_purchases  reorder_rate\n",
       "0                      Banana           472565      0.843501\n",
       "1      Bag of Organic Bananas           379450      0.832555\n",
       "2          Organic Whole Milk           137905      0.830354\n",
       "3                Spring Water            56087      0.812274\n",
       "4        Organic Hass Avocado           213584      0.796553\n",
       "5         Organic Half & Half            76360      0.781456\n",
       "6        Organic Strawberries           264683      0.777704\n",
       "7        Organic Baby Spinach           241921      0.772500\n",
       "8  Sparkling Water Grapefruit            75886      0.771064\n",
       "9         Organic Raspberries           137057      0.769089"
      ]
     },
     "execution_count": 24,
     "metadata": {},
     "output_type": "execute_result"
    }
   ],
   "source": [
    "df_reorder = pd.read_sql(\"\"\"\n",
    "SELECT \n",
    "  p.product_name,\n",
    "  COUNT(*) AS total_purchases,\n",
    "  SUM(CASE WHEN op.reordered = 1 THEN 1 ELSE 0 END) * 1.0 / COUNT(*) AS reorder_rate\n",
    "FROM order_products_prior op\n",
    "JOIN products p ON p.product_id = op.product_id\n",
    "GROUP BY p.product_name\n",
    "HAVING COUNT(*) >= 50000\n",
    "ORDER BY reorder_rate DESC\n",
    "LIMIT 10;\n",
    "\"\"\", engine)\n",
    "\n",
    "df_reorder"
   ]
  },
  {
   "cell_type": "code",
   "execution_count": null,
   "id": "654e59a7",
   "metadata": {},
   "outputs": [
    {
     "data": {
      "image/png": "[encoded data removed]",
      "text/plain": [
       "<Figure size 1000x600 with 1 Axes>"
      ]
     },
     "metadata": {},
     "output_type": "display_data"
    }
   ],
   "source": [
    "plt.figure(figsize=(10,6))\n",
    "plt.barh(df_reorder[\"product_name\"], df_reorder[\"reorder_rate\"]*100, color=\"darkcyan\")\n",
    "plt.title(\"Top Products by Reorder Rate (Support ≥ 50k)\")\n",
    "plt.xlabel(\"Reorder Rate (%)\")\n",
    "plt.gca().invert_yaxis()  # Top product at the top\n",
    "plt.show()"
   ]
  },
  {
   "cell_type": "markdown",
   "id": "f894ee07",
   "metadata": {},
   "source": [
    "### Query 12 – Users Segmentation by Number of Orders\n",
    "We want to segment customers into buckets based on how many orders they placed.  \n",
    "This allows the business to identify one-time users vs. loyal/repeat customers,  \n",
    "useful for CRM and targeted marketing campaigns."
   ]
  },
  {
   "cell_type": "code",
   "execution_count": 26,
   "id": "a1d638bd",
   "metadata": {},
   "outputs": [
    {
     "data": {
      "text/html": [
       "<div>\n",
       "<style scoped>\n",
       "    .dataframe tbody tr th:only-of-type {\n",
       "        vertical-align: middle;\n",
       "    }\n",
       "\n",
       "    .dataframe tbody tr th {\n",
       "        vertical-align: top;\n",
       "    }\n",
       "\n",
       "    .dataframe thead th {\n",
       "        text-align: right;\n",
       "    }\n",
       "</style>\n",
       "<table border=\"1\" class=\"dataframe\">\n",
       "  <thead>\n",
       "    <tr style=\"text-align: right;\">\n",
       "      <th></th>\n",
       "      <th>orders_bucket</th>\n",
       "      <th>n_users</th>\n",
       "    </tr>\n",
       "  </thead>\n",
       "  <tbody>\n",
       "    <tr>\n",
       "      <th>0</th>\n",
       "      <td>2-5</td>\n",
       "      <td>43576</td>\n",
       "    </tr>\n",
       "    <tr>\n",
       "      <th>1</th>\n",
       "      <td>6-10</td>\n",
       "      <td>60937</td>\n",
       "    </tr>\n",
       "    <tr>\n",
       "      <th>2</th>\n",
       "      <td>11-20</td>\n",
       "      <td>50965</td>\n",
       "    </tr>\n",
       "    <tr>\n",
       "      <th>3</th>\n",
       "      <td>&gt;20</td>\n",
       "      <td>50731</td>\n",
       "    </tr>\n",
       "  </tbody>\n",
       "</table>\n",
       "</div>"
      ],
      "text/plain": [
       "  orders_bucket  n_users\n",
       "0           2-5    43576\n",
       "1          6-10    60937\n",
       "2         11-20    50965\n",
       "3           >20    50731"
      ]
     },
     "execution_count": 26,
     "metadata": {},
     "output_type": "execute_result"
    }
   ],
   "source": [
    "df_buckets = pd.read_sql(\"\"\"\n",
    "WITH user_orders AS (\n",
    "  SELECT user_id, COUNT(*) AS n_orders\n",
    "  FROM orders\n",
    "  GROUP BY user_id\n",
    ")\n",
    "SELECT \n",
    "  CASE\n",
    "    WHEN n_orders = 1                  THEN '1'\n",
    "    WHEN n_orders BETWEEN 2 AND 5      THEN '2-5'\n",
    "    WHEN n_orders BETWEEN 6 AND 10     THEN '6-10'\n",
    "    WHEN n_orders BETWEEN 11 AND 20    THEN '11-20'\n",
    "    ELSE '>20'\n",
    "  END AS orders_bucket,\n",
    "  COUNT(*) AS n_users\n",
    "FROM user_orders\n",
    "GROUP BY orders_bucket\n",
    "ORDER BY CASE orders_bucket\n",
    "           WHEN '1' THEN 1\n",
    "           WHEN '2-5' THEN 2\n",
    "           WHEN '6-10' THEN 3\n",
    "           WHEN '11-20' THEN 4\n",
    "           ELSE 5\n",
    "         END;\n",
    "\"\"\", engine)\n",
    "\n",
    "df_buckets"
   ]
  },
  {
   "cell_type": "code",
   "execution_count": 27,
   "id": "10e94a33",
   "metadata": {},
   "outputs": [
    {
     "data": {
      "image/png": "[encoded data removed]",
      "text/plain": [
       "<Figure size 700x400 with 1 Axes>"
      ]
     },
     "metadata": {},
     "output_type": "display_data"
    }
   ],
   "source": [
    "plt.figure(figsize=(7,4))\n",
    "plt.bar(df_buckets[\"orders_bucket\"], df_buckets[\"n_users\"], color=\"slateblue\")\n",
    "plt.title(\"Users by Orders Bucket\")\n",
    "plt.xlabel(\"Orders per User\")\n",
    "plt.ylabel(\"Number of Users\")\n",
    "plt.show()"
   ]
  },
  {
   "cell_type": "markdown",
   "id": "ebc4505b",
   "metadata": {},
   "source": [
    "# Business Storytelling – Instacart Sales & Customer Analysis\n",
    "\n",
    "Based on the analysis of over 3 million Instacart grocery orders, we highlight the following key insights and business recommendations:\n",
    "\n",
    "---\n",
    "\n",
    "### 1. Demand Patterns\n",
    "- **Most orders occur between 10 a.m. and 3 p.m.**, with a sharp increase starting at 8 a.m. and a gradual decline after 8 p.m.  \n",
    "- **Sundays and Mondays** are the most popular shopping days, while mid-week demand decreases.  \n",
    "👉 *Recommendation: Allocate logistics and customer support resources during peak hours and consider promotional campaigns mid-week to balance demand.*\n",
    "\n",
    "---\n",
    "\n",
    "### 2. Product & Department Insights\n",
    "- **Produce (fresh fruits and vegetables)** dominates sales with nearly 9 million purchases, followed by Dairy & Eggs, Snacks, and Beverages.  \n",
    "- Popular individual products include staples such as **bananas, bagged spinach, and whole milk**.  \n",
    "👉 *Recommendation: Prioritize stock availability and supply chain efficiency in these high-volume categories to sustain customer loyalty.*\n",
    "\n",
    "---\n",
    "\n",
    "### 3. Basket Size & Customer Behavior\n",
    "- The **average order contains ~10 products**, though most baskets fall between 5–15 items.  \n",
    "- Customer segmentation shows that a large portion of users are **one-time shoppers**, but a significant base makes **6+ repeat purchases**, highlighting opportunities for retention programs.  \n",
    "👉 *Recommendation: Design personalized offers for repeat customers while implementing onboarding campaigns to convert one-time buyers into loyal customers.*\n",
    "\n",
    "---\n",
    "\n",
    "### 4. Reorder Dynamics (Customer Loyalty)\n",
    "- Approximately **58% of products purchased are reorders**, showing strong loyalty to familiar items.  \n",
    "- Top reordered products (with high support) include everyday essentials, suggesting that Instacart serves as a primary channel for routine grocery shopping.  \n",
    "👉 *Recommendation: Leverage these anchor products in cross-selling strategies (e.g., bundle bananas with related breakfast items).*\n",
    "\n",
    "---\n",
    "\n",
    "## Final Takeaway\n",
    "Instacart’s sales data reveals clear patterns in **when customers shop, what they buy, and how loyal they are to specific products**.  \n",
    "Focusing on peak-hour operations, ensuring availability of high-demand categories, and developing strategies to increase customer retention could directly improve revenue and customer satisfaction."
   ]
  }
 ],
 "metadata": {
  "kernelspec": {
   "display_name": "port-sql",
   "language": "python",
   "name": "python3"
  },
  "language_info": {
   "codemirror_mode": {
    "name": "ipython",
    "version": 3
   },
   "file_extension": ".py",
   "mimetype": "text/x-python",
   "name": "python",
   "nbconvert_exporter": "python",
   "pygments_lexer": "ipython3",
   "version": "3.11.13"
  }
 },
 "nbformat": 4,
 "nbformat_minor": 5
}
